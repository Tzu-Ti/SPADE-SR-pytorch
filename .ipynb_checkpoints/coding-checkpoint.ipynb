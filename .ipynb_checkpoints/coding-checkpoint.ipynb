{
 "cells": [
  {
   "cell_type": "code",
   "execution_count": 1,
   "id": "2e4a7c27",
   "metadata": {},
   "outputs": [],
   "source": [
    "import numpy as np\n",
    "import matplotlib.pyplot as plt"
   ]
  },
  {
   "cell_type": "code",
   "execution_count": 2,
   "id": "fa993859",
   "metadata": {},
   "outputs": [],
   "source": [
    "from dataset import TherDataset\n",
    "Dataset = TherDataset(rgb_npy_path=\"../lrt-human/rgb.npy\", thermal_npy_path=\"../lrt-human/thermal.npy\")"
   ]
  },
  {
   "cell_type": "code",
   "execution_count": 3,
   "id": "b0d06e90",
   "metadata": {},
   "outputs": [
    {
     "name": "stdout",
     "output_type": "stream",
     "text": [
      "torch.Size([3, 40, 64])\n",
      "torch.Size([3, 5, 8])\n"
     ]
    }
   ],
   "source": [
    "for rgb, thermal in Dataset:\n",
    "    print(rgb.shape)\n",
    "    print(thermal.shape)\n",
    "    break"
   ]
  },
  {
   "cell_type": "code",
   "execution_count": 4,
   "id": "768e8932",
   "metadata": {},
   "outputs": [
    {
     "name": "stdout",
     "output_type": "stream",
     "text": [
      "torch.Size([4, 3, 40, 64])\n",
      "torch.Size([4, 3, 5, 8])\n"
     ]
    }
   ],
   "source": [
    "from torch.utils.data import DataLoader\n",
    "trainDataloader = DataLoader(dataset=Dataset,\n",
    "                                     batch_size=4,\n",
    "                                     shuffle=True, \n",
    "                                     num_workers=12)\n",
    "for rgb, thermal in trainDataloader:\n",
    "    print(rgb.shape)\n",
    "    print(thermal.shape)\n",
    "    break"
   ]
  },
  {
   "cell_type": "code",
   "execution_count": null,
   "id": "6ca6a6e1",
   "metadata": {},
   "outputs": [],
   "source": []
  }
 ],
 "metadata": {
  "kernelspec": {
   "display_name": "Python 3 (ipykernel)",
   "language": "python",
   "name": "python3"
  },
  "language_info": {
   "codemirror_mode": {
    "name": "ipython",
    "version": 3
   },
   "file_extension": ".py",
   "mimetype": "text/x-python",
   "name": "python",
   "nbconvert_exporter": "python",
   "pygments_lexer": "ipython3",
   "version": "3.8.10"
  }
 },
 "nbformat": 4,
 "nbformat_minor": 5
}
